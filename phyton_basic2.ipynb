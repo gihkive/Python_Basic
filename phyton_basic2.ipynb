{
  "nbformat": 4,
  "nbformat_minor": 0,
  "metadata": {
    "colab": {
      "provenance": [],
      "authorship_tag": "ABX9TyPVIdGzC1ygzdnY7NUcCIkT",
      "include_colab_link": true
    },
    "kernelspec": {
      "name": "python3",
      "display_name": "Python 3"
    },
    "language_info": {
      "name": "python"
    }
  },
  "cells": [
    {
      "cell_type": "markdown",
      "metadata": {
        "id": "view-in-github",
        "colab_type": "text"
      },
      "source": [
        "<a href=\"https://colab.research.google.com/github/gihkive/Python_Basic/blob/main/phyton_basic2.ipynb\" target=\"_parent\"><img src=\"https://colab.research.google.com/assets/colab-badge.svg\" alt=\"Open In Colab\"/></a>"
      ]
    },
    {
      "cell_type": "markdown",
      "source": [
        "AULA 02\n",
        "\n",
        "Contexto:\n",
        "Uma escola está promovendo uma campanha de incentivo à leitura, em que cada estudante recebe pontos ao concluir livros. Esses pontos podem ser trocados por diferentes premios da escola. As categorias de livros têm valores de pontos diferentes:\n",
        "\n",
        "Livro de ficção: 10 pontos\n",
        "\n",
        "Livro de não-ficção: 8 pontos\n",
        "\n",
        "Livro infantil: 6 pontos\n",
        "\n",
        "Rodrigo leu um livro de cada categoria. Agora ele quer saber quantos pontos acumulou com sua leitura.\n",
        "Nosso objetivo é criar um programa em Python que:\n",
        "\n",
        "Armazene a pontuação de cada categoria de livro em uma variável.\n",
        "\n",
        "Calcule o total de pontos acumulados por Rodrigo.\n",
        "\n",
        "Mostre na tela o total de pontos acumulados por Rodrigo.\n"
      ],
      "metadata": {
        "id": "PKba0fqVjOBf"
      }
    },
    {
      "cell_type": "code",
      "source": [
        "ficcao=10\n",
        "nficcao=8\n",
        "infantil=6\n",
        "\n",
        "livros_lidos = 9\n",
        "\n",
        "pontos = (ficcao + nficcao + infantil)\n",
        "\n",
        "pontos_totais = (ficcao*3 + nficcao*3 + infantil*3)\n",
        "\n",
        "print(f\"A soma dos pontos de Rodrigo, após tres dias é {pontos_totais}\")\n",
        "\n",
        "print(f\"A soma dos pontos de Rodrigo são {pontos}\")\n",
        "\n",
        "print(f\"Total de livros lidos por Rodrigo são {livros_lidos}\"\n"
      ],
      "metadata": {
        "colab": {
          "base_uri": "https://localhost:8080/"
        },
        "outputId": "16a46f69-47d8-4689-8a50-37ac4e5566ef",
        "id": "tl-1cydljJ38"
      },
      "execution_count": null,
      "outputs": [
        {
          "output_type": "stream",
          "name": "stdout",
          "text": [
            "A soma dos pontos de Rodrigo, após tres dias é 72\n",
            "A soma dos pontos de Rodrigo são 24\n",
            "Total de livros lidos por Rodrigo são 9\n"
          ]
        }
      ]
    },
    {
      "cell_type": "code",
      "source": [
        "print(\"Os alunos não fazem nada durante as aulas, ficam apenas no youtube e no celular.\")"
      ],
      "metadata": {
        "colab": {
          "base_uri": "https://localhost:8080/"
        },
        "id": "Xqg8IISOkJyi",
        "outputId": "e5619ccb-77fc-4687-c95e-9b59fa3d8e43"
      },
      "execution_count": null,
      "outputs": [
        {
          "output_type": "stream",
          "name": "stdout",
          "text": [
            "Os alunos não fazem nada durante as aulas, ficam apenas no youtube e no celular.\n"
          ]
        }
      ]
    },
    {
      "cell_type": "code",
      "source": [
        "ano = \"Nascimento do Alien\"\n",
        "print(ano, \"O Athletico foi roubado ontem na arena corinthians\")"
      ],
      "metadata": {
        "colab": {
          "base_uri": "https://localhost:8080/"
        },
        "id": "l7aH2JJKkcRl",
        "outputId": "60e10cd1-48b0-4eec-dcf7-1d67d3bb814a"
      },
      "execution_count": null,
      "outputs": [
        {
          "output_type": "stream",
          "name": "stdout",
          "text": [
            "Nascimento do Alien O Athletico foi roubado ontem na arena corinthians\n"
          ]
        }
      ]
    },
    {
      "cell_type": "code",
      "source": [
        "print(f\"{ano} Competição de Phyton\")"
      ],
      "metadata": {
        "colab": {
          "base_uri": "https://localhost:8080/"
        },
        "id": "IkY32fi-kyhw",
        "outputId": "d761df12-47f2-4248-d842-6472f77fd990"
      },
      "execution_count": null,
      "outputs": [
        {
          "output_type": "stream",
          "name": "stdout",
          "text": [
            "Nascimento do Alien Competição de Phyton\n"
          ]
        }
      ]
    },
    {
      "cell_type": "markdown",
      "source": [
        "TESTE-PYTHON\n",
        "\n",
        "Elaborar um sistema de aprovação de estudantes;\n",
        "\n",
        "Nota >= 7 aprovado;\n",
        "\n",
        "Nota <7 e >4 recuperação;\n",
        "\n",
        "Nota < 4 reprovado;\n",
        "\n",
        "Pode colocar mensagens também.\n"
      ],
      "metadata": {
        "id": "olmTbOs2lTF7"
      }
    },
    {
      "cell_type": "code",
      "source": [
        "portugues = 2;\n",
        "matematica=6;\n",
        "ingles=2;\n",
        "biologia=3;\n",
        "quimica=3;\n",
        "fisica=5;\n",
        "programacao=5;\n",
        "\n",
        "notas= {2,6,2,3,3,5,5}\n",
        "\n",
        "soma_notas"
      ],
      "metadata": {
        "id": "zlqsLHvvTq72"
      },
      "execution_count": null,
      "outputs": []
    }
  ]
}