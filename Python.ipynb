{
  "nbformat": 4,
  "nbformat_minor": 0,
  "metadata": {
    "colab": {
      "provenance": [],
      "authorship_tag": "ABX9TyPAxfeHXzKF/CNORC6dDqch",
      "include_colab_link": true
    },
    "kernelspec": {
      "name": "python3",
      "display_name": "Python 3"
    },
    "language_info": {
      "name": "python"
    }
  },
  "cells": [
    {
      "cell_type": "markdown",
      "metadata": {
        "id": "view-in-github",
        "colab_type": "text"
      },
      "source": [
        "<a href=\"https://colab.research.google.com/github/gihkive/Python_Basic/blob/main/Python.ipynb\" target=\"_parent\"><img src=\"https://colab.research.google.com/assets/colab-badge.svg\" alt=\"Open In Colab\"/></a>"
      ]
    },
    {
      "cell_type": "markdown",
      "source": [
        "Contexto:\n",
        "Uma escola está promovendo uma campanha de incentivo à leitura, em que cada estudante recebe pontos ao concluir livros. Esses pontos podem ser trocados por diferentes premios da escola. As categorias de livros têm valores de pontos diferentes:\n",
        "Livro de ficção: 10 pontos\n",
        "Livro de não-ficção: 8 pontos\n",
        "Livro infantil: 6 pontos\n",
        "Rodrigo leu um livro de cada categoria. Agora ele quer saber quantos pontos acumulou com sua leitura.\n",
        "Nosso objetivo é criar um programa em Python que:\n",
        "Armazene a pontuação de cada categoria de livro em uma variável.\n",
        "Calcule o total de pontos acumulados por Rodrigo.\n",
        "Mostre na tela o total de pontos acumulados por Rodrigo."
      ],
      "metadata": {
        "id": "NrisRQHv5xj3"
      }
    },
    {
      "cell_type": "code",
      "source": [
        "ficcao = 10\n",
        "nficcao = 8\n",
        "infantil =6\n",
        "\n",
        "livros_lidos = 3;\n",
        "\n",
        "pontos = (ficcao + nficcao + infantil)\n",
        "\n",
        "pontos_totais = (ficcao*3 + nficcao*3 + infantil*3)\n",
        "\n",
        "print(f\"A soma dos pontos de Rodrigo, após três dias é {pontos_totais}\")\n",
        "\n",
        "print(f\"A soma dos pontos de Rodrigo é {pontos}\")\n",
        "\n",
        "print(f\"Total de livros lidos por Rodrigo é {livros_lidos}\")"
      ],
      "metadata": {
        "id": "xNN4OH8554K3",
        "outputId": "9462742b-a404-4edb-abcb-ec1b0419584c",
        "colab": {
          "base_uri": "https://localhost:8080/"
        }
      },
      "execution_count": null,
      "outputs": [
        {
          "output_type": "stream",
          "name": "stdout",
          "text": [
            "A soma dos pontos de Rodrigo, após três dias é 72\n",
            "A soma dos pontos de Rodrigo é 24\n",
            "Total de livros lidos por Rodrigo é 3\n"
          ]
        }
      ]
    },
    {
      "cell_type": "code",
      "source": [
        "ano = \"Nascimento do Alien\"\n",
        "print(ano, \"O Athletico foi roubado ontem na arena corinthians\")\n",
        "\n",
        "print(f\"{ano} Competição de Phyton\")"
      ],
      "metadata": {
        "id": "nG96tbSR6JUP",
        "colab": {
          "base_uri": "https://localhost:8080/"
        },
        "outputId": "d8b4002a-be89-4fb2-b030-7c9be8899e15"
      },
      "execution_count": null,
      "outputs": [
        {
          "output_type": "stream",
          "name": "stdout",
          "text": [
            "Nascimento do Alien O Athletico foi roubado ontem na arena corinthians\n",
            "Nascimento do Alien Competição de Phyton\n"
          ]
        }
      ]
    },
    {
      "cell_type": "markdown",
      "source": [
        "TESTE - primeiras aulas - básico\n",
        "Elaborar um sistema de aprovação de estudantes\n",
        "Nota >= 7 aprovado\n",
        "Nota <7 e >4 recuperação\n",
        "Nota < 4 reprovado\n"
      ],
      "metadata": {
        "id": "FT3KK8rxS1G2"
      }
    },
    {
      "cell_type": "code",
      "source": [
        "portugues = 2;\n",
        "matematica = 6;\n",
        "ingles = 2;\n",
        "biologia = 3;quimica = 3;\n",
        "fisica = 5;\n",
        "programacao = 5;\n",
        "\n",
        "notas = [2, 6, 2,, 3, 3, 5, 5]\n",
        "\n",
        "\n",
        "soma_notas = sum(notas)\n",
        "# função sum: possui a função de somar os tremos;\n",
        "\n",
        "disciplinas = len(notas)\n",
        "#len: função para contar termos em um intervalo;\n",
        "\n",
        "media_notas = ruod((soma_notas / disciplinas)2,)\n",
        "#round: função para arredondar valores, neste caso, duas casas decimais;\n",
        "\n",
        "print(f\"A soma das notas é: {soma_notas}\")\n",
        "print(f\"A média das notas é: {media_notas}\")\n",
        "\n",
        "if media_notas >= 7:\n",
        "  print(\"Aprovado\")\n",
        "  print(\"Parabéns\")\n",
        "  print(\"Continue assim\")\n",
        "\n",
        ""
      ],
      "metadata": {
        "id": "JhSZobPs5n4R"
      },
      "execution_count": null,
      "outputs": []
    },
    {
      "cell_type": "code",
      "source": [
        "portugues = 2;\n",
        "matematica=6;\n",
        "ingles=2;\n",
        "biologia=3;\n",
        "quimica=3;\n",
        "fisica=5;\n",
        "programacao=5;\n",
        "\n",
        "notas= {2,6,2,3,3,5,5}\n",
        "\n",
        "soma_notas = sum(notas)\n",
        "# função sum: possui a função de somar os termos;\n",
        "\n",
        "disciplinas = len(notas)\n",
        "# len: função para contar termos em um intervalo;\n",
        "\n",
        "media_notas = round((soma_notas / disciplinas),2)\n",
        "# round: função para arredondar valores, neste caso, duas casas decimais;\n",
        "\n",
        "print(f\"A soma das notas é: {soma_notas}\")\n",
        "print(f\"A media das notas é: {media_notas}\")\n",
        "\n",
        "if media_notas >= 7:\n",
        "  print(\"Aprovado\")\n",
        "  print(\"Parabéns\")\n",
        "  print(\"Continue assim\")\n",
        "\n",
        "  elif media_notas >= 4 and media_notas <7:\n",
        "    print(\"Recuperação\")\n",
        "    print(\"Estude mais\")\n",
        "    print(\"Não desista\")\n",
        "\n",
        "  else:\n",
        "    print(\"Reprovado\")\n",
        "    print(\"Estude mais\")\n",
        "    print(\"Não desista\")"
      ],
      "metadata": {
        "id": "zlqsLHvvTq72",
        "colab": {
          "base_uri": "https://localhost:8080/",
          "height": 106
        },
        "outputId": "f0c7ee0b-9a14-4b43-cf14-ccda562a4afe"
      },
      "execution_count": null,
      "outputs": [
        {
          "output_type": "error",
          "ename": "SyntaxError",
          "evalue": "invalid syntax (ipython-input-266540502.py, line 28)",
          "traceback": [
            "\u001b[0;36m  File \u001b[0;32m\"/tmp/ipython-input-266540502.py\"\u001b[0;36m, line \u001b[0;32m28\u001b[0m\n\u001b[0;31m    elif media_notas >= 4 and media_notas <7:\u001b[0m\n\u001b[0m    ^\u001b[0m\n\u001b[0;31mSyntaxError\u001b[0m\u001b[0;31m:\u001b[0m invalid syntax\n"
          ]
        }
      ]
    },
    {
      "cell_type": "markdown",
      "source": [],
      "metadata": {
        "id": "uJj4VWMnQ2QQ"
      }
    },
    {
      "cell_type": "markdown",
      "source": [
        "Atividade 04 -\n",
        "\n",
        "Divisão do tesouro: https://olimpiada.ic.unicamp.br/passadas/OBI2020/fase1/programacao-b/\n",
        "\n",
        "A turma do 2º ano encontrou um envelope cheio de figurinhas. Para garantir uma divisão justa, todos concordaram com a sugestão de João, o dono do envelope:\n",
        "\n",
        "Cada amigo, exceto João, deve receber exatamente o mesmo número de figurinhas. João deve receber o dobro da quantidade que cada amigo recebe. Pode ser que o fato de João ser o dono do envelope tenha ajudado a convencer os amigos, mas também contribuiu o fato de que, do jeito proposto, a divisão era exata, sem sobrar nem faltar figurinhas.\n",
        "\n",
        "Crie um programa que determine a quantidade de figurinhas que João recebeu, dado o número total de figurinhas no envelope e o número de amigos de João.\n",
        "A primeira linha contém um número inteiro total_figurinhas, que representa o número de figurinhas no envelope.\n",
        "A segunda linha contém um número inteiro numero_amigos, que representa a quantidade de amigos de João (excluindo o próprio João).\n"
      ],
      "metadata": {
        "id": "ZikofQDWGlS_"
      }
    },
    {
      "cell_type": "code",
      "source": [
        "total_figurinhas = int(input(\"digite o total de figurinhas:\"))\n",
        "\n",
        "print() # A função print vazia, pula uma linha;\n",
        "\n",
        "numero_amigos = int(input(\"digite o numero de amigos:\"))\n",
        "\n",
        "print() # A função print vazia, pula uma linha;\n",
        "\n",
        "print(f\"Joao recebeu {figurinhas_joao} figurinhas\")\n",
        "\n",
        "figurinhas_amigos = total_figurinhas // (numero_amigos + 2)\n",
        "\n",
        "figurinhas_joao = 2 * figurinhas_amigos\n",
        "\n",
        "figurinhas_envelope = int(input(\"digite o total de figuirinhas envelope:\"))\n",
        "\n",
        "figurinhas_extra_mochila = int(input(\"digite o total de figurinhas da mochila do joao\"))\n",
        "\n",
        "pessoas = int(input(\"digite o total dos amigos de joao + joao:\"))\n",
        "\n",
        "total_figurinhas = figurinhas_extra_mochila + figurinhas_envelope\n",
        "\n",
        "total_pessoas = pessoas\n",
        "\n",
        "figurinha_cada_amigo = total_figurinhas // total_pessoas\n",
        "\n",
        "figurinhas_joao = figurinha_cada_amigo * 2\n",
        "\n",
        "print(f\"total de figurinhas: {total_figurinhas}\")\n",
        "\n",
        "print(f\"total de figurinhas de cada amigo: {figurinha_cada_amigo}\")\n",
        "\n",
        "print(f\"total de figurinhas de joao: {figurinhas_joao}\")"
      ],
      "metadata": {
        "id": "AfuTT2R3GzxK",
        "colab": {
          "base_uri": "https://localhost:8080/",
          "height": 356
        },
        "outputId": "34cf94d7-4dc1-44c0-9940-81addcb8efb6"
      },
      "execution_count": 1,
      "outputs": [
        {
          "output_type": "error",
          "ename": "KeyboardInterrupt",
          "evalue": "Interrupted by user",
          "traceback": [
            "\u001b[0;31m---------------------------------------------------------------------------\u001b[0m",
            "\u001b[0;31mKeyboardInterrupt\u001b[0m                         Traceback (most recent call last)",
            "\u001b[0;32m/tmp/ipython-input-1449493438.py\u001b[0m in \u001b[0;36m<cell line: 0>\u001b[0;34m()\u001b[0m\n\u001b[0;32m----> 1\u001b[0;31m \u001b[0mtotal_figurinhas\u001b[0m \u001b[0;34m=\u001b[0m \u001b[0mint\u001b[0m\u001b[0;34m(\u001b[0m\u001b[0minput\u001b[0m\u001b[0;34m(\u001b[0m\u001b[0;34m\"digite o total de figurinhas:\"\u001b[0m\u001b[0;34m)\u001b[0m\u001b[0;34m)\u001b[0m\u001b[0;34m\u001b[0m\u001b[0;34m\u001b[0m\u001b[0m\n\u001b[0m\u001b[1;32m      2\u001b[0m \u001b[0;34m\u001b[0m\u001b[0m\n\u001b[1;32m      3\u001b[0m \u001b[0mprint\u001b[0m\u001b[0;34m(\u001b[0m\u001b[0;34m)\u001b[0m \u001b[0;31m# A função print vazia, pula uma linha;\u001b[0m\u001b[0;34m\u001b[0m\u001b[0;34m\u001b[0m\u001b[0m\n\u001b[1;32m      4\u001b[0m \u001b[0;34m\u001b[0m\u001b[0m\n\u001b[1;32m      5\u001b[0m \u001b[0mnumero_amigos\u001b[0m \u001b[0;34m=\u001b[0m \u001b[0mint\u001b[0m\u001b[0;34m(\u001b[0m\u001b[0minput\u001b[0m\u001b[0;34m(\u001b[0m\u001b[0;34m\"digite o numero de amigos:\"\u001b[0m\u001b[0;34m)\u001b[0m\u001b[0;34m)\u001b[0m\u001b[0;34m\u001b[0m\u001b[0;34m\u001b[0m\u001b[0m\n",
            "\u001b[0;32m/usr/local/lib/python3.12/dist-packages/ipykernel/kernelbase.py\u001b[0m in \u001b[0;36mraw_input\u001b[0;34m(self, prompt)\u001b[0m\n\u001b[1;32m   1175\u001b[0m                 \u001b[0;34m\"raw_input was called, but this frontend does not support input requests.\"\u001b[0m\u001b[0;34m\u001b[0m\u001b[0;34m\u001b[0m\u001b[0m\n\u001b[1;32m   1176\u001b[0m             )\n\u001b[0;32m-> 1177\u001b[0;31m         return self._input_request(\n\u001b[0m\u001b[1;32m   1178\u001b[0m             \u001b[0mstr\u001b[0m\u001b[0;34m(\u001b[0m\u001b[0mprompt\u001b[0m\u001b[0;34m)\u001b[0m\u001b[0;34m,\u001b[0m\u001b[0;34m\u001b[0m\u001b[0;34m\u001b[0m\u001b[0m\n\u001b[1;32m   1179\u001b[0m             \u001b[0mself\u001b[0m\u001b[0;34m.\u001b[0m\u001b[0m_parent_ident\u001b[0m\u001b[0;34m[\u001b[0m\u001b[0;34m\"shell\"\u001b[0m\u001b[0;34m]\u001b[0m\u001b[0;34m,\u001b[0m\u001b[0;34m\u001b[0m\u001b[0;34m\u001b[0m\u001b[0m\n",
            "\u001b[0;32m/usr/local/lib/python3.12/dist-packages/ipykernel/kernelbase.py\u001b[0m in \u001b[0;36m_input_request\u001b[0;34m(self, prompt, ident, parent, password)\u001b[0m\n\u001b[1;32m   1217\u001b[0m             \u001b[0;32mexcept\u001b[0m \u001b[0mKeyboardInterrupt\u001b[0m\u001b[0;34m:\u001b[0m\u001b[0;34m\u001b[0m\u001b[0;34m\u001b[0m\u001b[0m\n\u001b[1;32m   1218\u001b[0m                 \u001b[0;31m# re-raise KeyboardInterrupt, to truncate traceback\u001b[0m\u001b[0;34m\u001b[0m\u001b[0;34m\u001b[0m\u001b[0m\n\u001b[0;32m-> 1219\u001b[0;31m                 \u001b[0;32mraise\u001b[0m \u001b[0mKeyboardInterrupt\u001b[0m\u001b[0;34m(\u001b[0m\u001b[0;34m\"Interrupted by user\"\u001b[0m\u001b[0;34m)\u001b[0m \u001b[0;32mfrom\u001b[0m \u001b[0;32mNone\u001b[0m\u001b[0;34m\u001b[0m\u001b[0;34m\u001b[0m\u001b[0m\n\u001b[0m\u001b[1;32m   1220\u001b[0m             \u001b[0;32mexcept\u001b[0m \u001b[0mException\u001b[0m\u001b[0;34m:\u001b[0m\u001b[0;34m\u001b[0m\u001b[0;34m\u001b[0m\u001b[0m\n\u001b[1;32m   1221\u001b[0m                 \u001b[0mself\u001b[0m\u001b[0;34m.\u001b[0m\u001b[0mlog\u001b[0m\u001b[0;34m.\u001b[0m\u001b[0mwarning\u001b[0m\u001b[0;34m(\u001b[0m\u001b[0;34m\"Invalid Message:\"\u001b[0m\u001b[0;34m,\u001b[0m \u001b[0mexc_info\u001b[0m\u001b[0;34m=\u001b[0m\u001b[0;32mTrue\u001b[0m\u001b[0;34m)\u001b[0m\u001b[0;34m\u001b[0m\u001b[0;34m\u001b[0m\u001b[0m\n",
            "\u001b[0;31mKeyboardInterrupt\u001b[0m: Interrupted by user"
          ]
        }
      ]
    },
    {
      "cell_type": "markdown",
      "source": [
        "DESAFIO - 05\n",
        "\n",
        "Agora, imagine que o jogo de flíper ficou mais complexo e há 3 portinhas que podem influenciar o caminho da bolinha.\n",
        "As portinhas funcionam da seguinte forma:\n",
        "A portinha P decide entre os caminhos iniciais.\n",
        "A portinha R ajusta o trajeto no meio.\n",
        "Uma nova portinha Q foi adicionada. Ela define se o caminho final incluirá uma letra extra, D, quando estiver na posição 1.\n",
        "Atualize o programa para incluir a lógica da terceira portinha:\n",
        "\n",
        "Se a portinha Q estiver na posição 1, deve ser exibida a letra D. No final do programa, continue imprimindo o caminho completo como antes.\n"
      ],
      "metadata": {
        "id": "6V0-0Ld8RkPP"
      }
    },
    {
      "cell_type": "code",
      "source": [
        "p = int(input(\"digite a posição da porta (0 ouo 1):\"))\n",
        "r = int(input(\"digite a posição da porta (0 ouo 1):\"))\n",
        "q = int(input(\"digite a posição da porta (0 ouo 1):\"))\n",
        "\n",
        "if p==0:\n",
        "print(\"Seguirá pelo caminho: C\")\n",
        "\n",
        "elif p==1 and r==1 and q==0:\n",
        "print(\"Seguirá pelo caminho: A\")\n",
        "\n",
        "elif p==1 and r==1 and q==1:\n",
        "print(\"Seguirá pelo caminho: Q\")\n",
        "\n",
        "elif p==1 and r==0 and q==0:\n",
        "print(\"Seguirá pelo caminho: B\")\n",
        "\n",
        "else:\n",
        "print(\"Seguirá pelo caminho: B\")"
      ],
      "metadata": {
        "id": "G3ybin-6Rr96"
      },
      "execution_count": null,
      "outputs": []
    },
    {
      "cell_type": "markdown",
      "source": [
        "DESAFIO - 06\n",
        "\n",
        "Agora imagine que nós queremos descobrir qual livro da biblioteca tem a maior quantidade de páginas.\n",
        "\n",
        "Para isso nós começamos com os 5 maiores livros que pegamos da biblioteca da escola.\n",
        "\n",
        "O nosso programa vai precisar receber 5 números inteiros que representa a quantidade de páginas e imprimir um único número representando o maior número de páginas entre ele.\n",
        "\n",
        "Para isso, vocês precisam escrever um código usando uma função def que vocês vão nomear da forma que vocês acharem mais correta."
      ],
      "metadata": {
        "id": "r3mBEEZiTUpy"
      }
    }
  ]
}